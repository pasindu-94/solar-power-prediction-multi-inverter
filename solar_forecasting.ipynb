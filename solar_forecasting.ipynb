{
  "nbformat": 4,
  "nbformat_minor": 0,
  "metadata": {
    "colab": {
      "name": "solar-forecasting",
      "provenance": [],
      "authorship_tag": "ABX9TyPkvRdoq+siAzdvhIvMJ5U2",
      "include_colab_link": true
    },
    "kernelspec": {
      "name": "python3",
      "display_name": "Python 3"
    },
    "language_info": {
      "name": "python"
    }
  },
  "cells": [
    {
      "cell_type": "markdown",
      "metadata": {
        "id": "view-in-github",
        "colab_type": "text"
      },
      "source": [
        "<a href=\"https://colab.research.google.com/github/pasindu-94/solar-power-prediction-multi-inverter/blob/main/solar_forecasting.ipynb\" target=\"_parent\"><img src=\"https://colab.research.google.com/assets/colab-badge.svg\" alt=\"Open In Colab\"/></a>"
      ]
    },
    {
      "cell_type": "markdown",
      "metadata": {
        "id": "YBwgiEsEta3m"
      },
      "source": [
        "#Solar Power Prediction and Forecasting Analysis"
      ]
    },
    {
      "cell_type": "markdown",
      "metadata": {
        "id": "xr-oUiN7tkcJ"
      },
      "source": [
        "## Background\n",
        "\n",
        "Solar power forecasting is the process of gathering and analyzing data in order to predict solar power generation on various time horizons with the goal to mitigate the impact of solar intermittency. Solar power forecasts are used for efficient management of the electric grid and for power trading"
      ]
    },
    {
      "cell_type": "code",
      "metadata": {
        "id": "DN-FrsAyuKRa"
      },
      "source": [
        "#Importing Libraries\n",
        "\n",
        "import numpy as np\n",
        "import pandas as pd\n",
        "import matplotlib.pyplot as plt\n",
        "import seaborn as sns"
      ],
      "execution_count": 1,
      "outputs": []
    },
    {
      "cell_type": "markdown",
      "metadata": {
        "id": "Yd9oCPv_uF9h"
      },
      "source": [
        "##Loading Datasets"
      ]
    },
    {
      "cell_type": "code",
      "metadata": {
        "id": "LneX2moct2N6"
      },
      "source": [
        "solar_plant01_generation_file = 'https://raw.githubusercontent.com/pasindu-94/solar-power-prediction-multi-inverter/main/datasets/solar_plant01_generation_data.csv'\n",
        "solar_plant01_weather_data_file = 'https://raw.githubusercontent.com/pasindu-94/solar-power-prediction-multi-inverter/main/datasets/solar_plant01_weather_data.csv'\n",
        "solar_plant02_generation_file = 'https://raw.githubusercontent.com/pasindu-94/solar-power-prediction-multi-inverter/main/datasets/solar_plant02_generation_data.csv'\n",
        "solar_plant02_weather_data_file = 'https://raw.githubusercontent.com/pasindu-94/solar-power-prediction-multi-inverter/main/datasets/solar_plant02_weather_data.csv'\n",
        "\n",
        "\n",
        "# Load CSV File\n",
        "solargen_data01 = pd.read_csv(solar_plant01_generation_file)\n",
        "weather_data01 = pd.read_csv(solar_plant01_weather_data_file)\n",
        "\n",
        "solargen_data02 = pd.read_csv(solar_plant02_generation_file)\n",
        "weather_data02 = pd.read_csv(solar_plant02_weather_data_file)"
      ],
      "execution_count": 2,
      "outputs": []
    },
    {
      "cell_type": "code",
      "metadata": {
        "colab": {
          "base_uri": "https://localhost:8080/",
          "height": 206
        },
        "id": "KLGDk1LzvI_s",
        "outputId": "b57299ef-7e48-4519-c9f3-b188bd8ed952"
      },
      "source": [
        "solargen_data01.head()"
      ],
      "execution_count": 3,
      "outputs": [
        {
          "output_type": "execute_result",
          "data": {
            "text/html": [
              "<div>\n",
              "<style scoped>\n",
              "    .dataframe tbody tr th:only-of-type {\n",
              "        vertical-align: middle;\n",
              "    }\n",
              "\n",
              "    .dataframe tbody tr th {\n",
              "        vertical-align: top;\n",
              "    }\n",
              "\n",
              "    .dataframe thead th {\n",
              "        text-align: right;\n",
              "    }\n",
              "</style>\n",
              "<table border=\"1\" class=\"dataframe\">\n",
              "  <thead>\n",
              "    <tr style=\"text-align: right;\">\n",
              "      <th></th>\n",
              "      <th>DATE_TIME</th>\n",
              "      <th>PLANT_ID</th>\n",
              "      <th>SOURCE_KEY</th>\n",
              "      <th>DC_POWER</th>\n",
              "      <th>AC_POWER</th>\n",
              "      <th>DAILY_YIELD</th>\n",
              "      <th>TOTAL_YIELD</th>\n",
              "    </tr>\n",
              "  </thead>\n",
              "  <tbody>\n",
              "    <tr>\n",
              "      <th>0</th>\n",
              "      <td>15-05-2020 00:00</td>\n",
              "      <td>4135001</td>\n",
              "      <td>1BY6WEcLGh8j5v7</td>\n",
              "      <td>0.0</td>\n",
              "      <td>0.0</td>\n",
              "      <td>0.0</td>\n",
              "      <td>6259559.0</td>\n",
              "    </tr>\n",
              "    <tr>\n",
              "      <th>1</th>\n",
              "      <td>15-05-2020 00:00</td>\n",
              "      <td>4135001</td>\n",
              "      <td>1IF53ai7Xc0U56Y</td>\n",
              "      <td>0.0</td>\n",
              "      <td>0.0</td>\n",
              "      <td>0.0</td>\n",
              "      <td>6183645.0</td>\n",
              "    </tr>\n",
              "    <tr>\n",
              "      <th>2</th>\n",
              "      <td>15-05-2020 00:00</td>\n",
              "      <td>4135001</td>\n",
              "      <td>3PZuoBAID5Wc2HD</td>\n",
              "      <td>0.0</td>\n",
              "      <td>0.0</td>\n",
              "      <td>0.0</td>\n",
              "      <td>6987759.0</td>\n",
              "    </tr>\n",
              "    <tr>\n",
              "      <th>3</th>\n",
              "      <td>15-05-2020 00:00</td>\n",
              "      <td>4135001</td>\n",
              "      <td>7JYdWkrLSPkdwr4</td>\n",
              "      <td>0.0</td>\n",
              "      <td>0.0</td>\n",
              "      <td>0.0</td>\n",
              "      <td>7602960.0</td>\n",
              "    </tr>\n",
              "    <tr>\n",
              "      <th>4</th>\n",
              "      <td>15-05-2020 00:00</td>\n",
              "      <td>4135001</td>\n",
              "      <td>McdE0feGgRqW7Ca</td>\n",
              "      <td>0.0</td>\n",
              "      <td>0.0</td>\n",
              "      <td>0.0</td>\n",
              "      <td>7158964.0</td>\n",
              "    </tr>\n",
              "  </tbody>\n",
              "</table>\n",
              "</div>"
            ],
            "text/plain": [
              "          DATE_TIME  PLANT_ID  ... DAILY_YIELD  TOTAL_YIELD\n",
              "0  15-05-2020 00:00   4135001  ...         0.0    6259559.0\n",
              "1  15-05-2020 00:00   4135001  ...         0.0    6183645.0\n",
              "2  15-05-2020 00:00   4135001  ...         0.0    6987759.0\n",
              "3  15-05-2020 00:00   4135001  ...         0.0    7602960.0\n",
              "4  15-05-2020 00:00   4135001  ...         0.0    7158964.0\n",
              "\n",
              "[5 rows x 7 columns]"
            ]
          },
          "metadata": {},
          "execution_count": 3
        }
      ]
    },
    {
      "cell_type": "code",
      "metadata": {
        "colab": {
          "base_uri": "https://localhost:8080/",
          "height": 206
        },
        "id": "v9xvC4c3vQXL",
        "outputId": "918769b6-3588-4fc5-c201-669149b7a5c6"
      },
      "source": [
        "weather_data01.head()"
      ],
      "execution_count": 5,
      "outputs": [
        {
          "output_type": "execute_result",
          "data": {
            "text/html": [
              "<div>\n",
              "<style scoped>\n",
              "    .dataframe tbody tr th:only-of-type {\n",
              "        vertical-align: middle;\n",
              "    }\n",
              "\n",
              "    .dataframe tbody tr th {\n",
              "        vertical-align: top;\n",
              "    }\n",
              "\n",
              "    .dataframe thead th {\n",
              "        text-align: right;\n",
              "    }\n",
              "</style>\n",
              "<table border=\"1\" class=\"dataframe\">\n",
              "  <thead>\n",
              "    <tr style=\"text-align: right;\">\n",
              "      <th></th>\n",
              "      <th>DATE_TIME</th>\n",
              "      <th>PLANT_ID</th>\n",
              "      <th>SOURCE_KEY</th>\n",
              "      <th>AMBIENT_TEMPERATURE</th>\n",
              "      <th>MODULE_TEMPERATURE</th>\n",
              "      <th>IRRADIATION</th>\n",
              "    </tr>\n",
              "  </thead>\n",
              "  <tbody>\n",
              "    <tr>\n",
              "      <th>0</th>\n",
              "      <td>2020-05-15 00:00:00</td>\n",
              "      <td>4135001</td>\n",
              "      <td>HmiyD2TTLFNqkNe</td>\n",
              "      <td>25.184316</td>\n",
              "      <td>22.857507</td>\n",
              "      <td>0.0</td>\n",
              "    </tr>\n",
              "    <tr>\n",
              "      <th>1</th>\n",
              "      <td>2020-05-15 00:15:00</td>\n",
              "      <td>4135001</td>\n",
              "      <td>HmiyD2TTLFNqkNe</td>\n",
              "      <td>25.084589</td>\n",
              "      <td>22.761668</td>\n",
              "      <td>0.0</td>\n",
              "    </tr>\n",
              "    <tr>\n",
              "      <th>2</th>\n",
              "      <td>2020-05-15 00:30:00</td>\n",
              "      <td>4135001</td>\n",
              "      <td>HmiyD2TTLFNqkNe</td>\n",
              "      <td>24.935753</td>\n",
              "      <td>22.592306</td>\n",
              "      <td>0.0</td>\n",
              "    </tr>\n",
              "    <tr>\n",
              "      <th>3</th>\n",
              "      <td>2020-05-15 00:45:00</td>\n",
              "      <td>4135001</td>\n",
              "      <td>HmiyD2TTLFNqkNe</td>\n",
              "      <td>24.846130</td>\n",
              "      <td>22.360852</td>\n",
              "      <td>0.0</td>\n",
              "    </tr>\n",
              "    <tr>\n",
              "      <th>4</th>\n",
              "      <td>2020-05-15 01:00:00</td>\n",
              "      <td>4135001</td>\n",
              "      <td>HmiyD2TTLFNqkNe</td>\n",
              "      <td>24.621525</td>\n",
              "      <td>22.165423</td>\n",
              "      <td>0.0</td>\n",
              "    </tr>\n",
              "  </tbody>\n",
              "</table>\n",
              "</div>"
            ],
            "text/plain": [
              "             DATE_TIME  PLANT_ID  ... MODULE_TEMPERATURE  IRRADIATION\n",
              "0  2020-05-15 00:00:00   4135001  ...          22.857507          0.0\n",
              "1  2020-05-15 00:15:00   4135001  ...          22.761668          0.0\n",
              "2  2020-05-15 00:30:00   4135001  ...          22.592306          0.0\n",
              "3  2020-05-15 00:45:00   4135001  ...          22.360852          0.0\n",
              "4  2020-05-15 01:00:00   4135001  ...          22.165423          0.0\n",
              "\n",
              "[5 rows x 6 columns]"
            ]
          },
          "metadata": {},
          "execution_count": 5
        }
      ]
    },
    {
      "cell_type": "code",
      "metadata": {
        "colab": {
          "base_uri": "https://localhost:8080/",
          "height": 206
        },
        "id": "qqw_Tm7hvM4f",
        "outputId": "6da506d1-9411-44cf-95e0-ee401ed1cee8"
      },
      "source": [
        "solargen_data02.head()"
      ],
      "execution_count": 4,
      "outputs": [
        {
          "output_type": "execute_result",
          "data": {
            "text/html": [
              "<div>\n",
              "<style scoped>\n",
              "    .dataframe tbody tr th:only-of-type {\n",
              "        vertical-align: middle;\n",
              "    }\n",
              "\n",
              "    .dataframe tbody tr th {\n",
              "        vertical-align: top;\n",
              "    }\n",
              "\n",
              "    .dataframe thead th {\n",
              "        text-align: right;\n",
              "    }\n",
              "</style>\n",
              "<table border=\"1\" class=\"dataframe\">\n",
              "  <thead>\n",
              "    <tr style=\"text-align: right;\">\n",
              "      <th></th>\n",
              "      <th>DATE_TIME</th>\n",
              "      <th>PLANT_ID</th>\n",
              "      <th>SOURCE_KEY</th>\n",
              "      <th>DC_POWER</th>\n",
              "      <th>AC_POWER</th>\n",
              "      <th>DAILY_YIELD</th>\n",
              "      <th>TOTAL_YIELD</th>\n",
              "    </tr>\n",
              "  </thead>\n",
              "  <tbody>\n",
              "    <tr>\n",
              "      <th>0</th>\n",
              "      <td>2020-05-15 00:00:00</td>\n",
              "      <td>4136001</td>\n",
              "      <td>4UPUqMRk7TRMgml</td>\n",
              "      <td>0.0</td>\n",
              "      <td>0.0</td>\n",
              "      <td>9425.000000</td>\n",
              "      <td>2.429011e+06</td>\n",
              "    </tr>\n",
              "    <tr>\n",
              "      <th>1</th>\n",
              "      <td>2020-05-15 00:00:00</td>\n",
              "      <td>4136001</td>\n",
              "      <td>81aHJ1q11NBPMrL</td>\n",
              "      <td>0.0</td>\n",
              "      <td>0.0</td>\n",
              "      <td>0.000000</td>\n",
              "      <td>1.215279e+09</td>\n",
              "    </tr>\n",
              "    <tr>\n",
              "      <th>2</th>\n",
              "      <td>2020-05-15 00:00:00</td>\n",
              "      <td>4136001</td>\n",
              "      <td>9kRcWv60rDACzjR</td>\n",
              "      <td>0.0</td>\n",
              "      <td>0.0</td>\n",
              "      <td>3075.333333</td>\n",
              "      <td>2.247720e+09</td>\n",
              "    </tr>\n",
              "    <tr>\n",
              "      <th>3</th>\n",
              "      <td>2020-05-15 00:00:00</td>\n",
              "      <td>4136001</td>\n",
              "      <td>Et9kgGMDl729KT4</td>\n",
              "      <td>0.0</td>\n",
              "      <td>0.0</td>\n",
              "      <td>269.933333</td>\n",
              "      <td>1.704250e+06</td>\n",
              "    </tr>\n",
              "    <tr>\n",
              "      <th>4</th>\n",
              "      <td>2020-05-15 00:00:00</td>\n",
              "      <td>4136001</td>\n",
              "      <td>IQ2d7wF4YD8zU1Q</td>\n",
              "      <td>0.0</td>\n",
              "      <td>0.0</td>\n",
              "      <td>3177.000000</td>\n",
              "      <td>1.994153e+07</td>\n",
              "    </tr>\n",
              "  </tbody>\n",
              "</table>\n",
              "</div>"
            ],
            "text/plain": [
              "             DATE_TIME  PLANT_ID  ...  DAILY_YIELD   TOTAL_YIELD\n",
              "0  2020-05-15 00:00:00   4136001  ...  9425.000000  2.429011e+06\n",
              "1  2020-05-15 00:00:00   4136001  ...     0.000000  1.215279e+09\n",
              "2  2020-05-15 00:00:00   4136001  ...  3075.333333  2.247720e+09\n",
              "3  2020-05-15 00:00:00   4136001  ...   269.933333  1.704250e+06\n",
              "4  2020-05-15 00:00:00   4136001  ...  3177.000000  1.994153e+07\n",
              "\n",
              "[5 rows x 7 columns]"
            ]
          },
          "metadata": {},
          "execution_count": 4
        }
      ]
    },
    {
      "cell_type": "code",
      "metadata": {
        "colab": {
          "base_uri": "https://localhost:8080/",
          "height": 206
        },
        "id": "C3SE0K4TvUSH",
        "outputId": "847d60c1-9769-42f7-e697-2470569ed086"
      },
      "source": [
        "weather_data02.head()"
      ],
      "execution_count": 6,
      "outputs": [
        {
          "output_type": "execute_result",
          "data": {
            "text/html": [
              "<div>\n",
              "<style scoped>\n",
              "    .dataframe tbody tr th:only-of-type {\n",
              "        vertical-align: middle;\n",
              "    }\n",
              "\n",
              "    .dataframe tbody tr th {\n",
              "        vertical-align: top;\n",
              "    }\n",
              "\n",
              "    .dataframe thead th {\n",
              "        text-align: right;\n",
              "    }\n",
              "</style>\n",
              "<table border=\"1\" class=\"dataframe\">\n",
              "  <thead>\n",
              "    <tr style=\"text-align: right;\">\n",
              "      <th></th>\n",
              "      <th>DATE_TIME</th>\n",
              "      <th>PLANT_ID</th>\n",
              "      <th>SOURCE_KEY</th>\n",
              "      <th>AMBIENT_TEMPERATURE</th>\n",
              "      <th>MODULE_TEMPERATURE</th>\n",
              "      <th>IRRADIATION</th>\n",
              "    </tr>\n",
              "  </thead>\n",
              "  <tbody>\n",
              "    <tr>\n",
              "      <th>0</th>\n",
              "      <td>2020-05-15 00:00:00</td>\n",
              "      <td>4136001</td>\n",
              "      <td>iq8k7ZNt4Mwm3w0</td>\n",
              "      <td>27.004764</td>\n",
              "      <td>25.060789</td>\n",
              "      <td>0.0</td>\n",
              "    </tr>\n",
              "    <tr>\n",
              "      <th>1</th>\n",
              "      <td>2020-05-15 00:15:00</td>\n",
              "      <td>4136001</td>\n",
              "      <td>iq8k7ZNt4Mwm3w0</td>\n",
              "      <td>26.880811</td>\n",
              "      <td>24.421869</td>\n",
              "      <td>0.0</td>\n",
              "    </tr>\n",
              "    <tr>\n",
              "      <th>2</th>\n",
              "      <td>2020-05-15 00:30:00</td>\n",
              "      <td>4136001</td>\n",
              "      <td>iq8k7ZNt4Mwm3w0</td>\n",
              "      <td>26.682055</td>\n",
              "      <td>24.427290</td>\n",
              "      <td>0.0</td>\n",
              "    </tr>\n",
              "    <tr>\n",
              "      <th>3</th>\n",
              "      <td>2020-05-15 00:45:00</td>\n",
              "      <td>4136001</td>\n",
              "      <td>iq8k7ZNt4Mwm3w0</td>\n",
              "      <td>26.500589</td>\n",
              "      <td>24.420678</td>\n",
              "      <td>0.0</td>\n",
              "    </tr>\n",
              "    <tr>\n",
              "      <th>4</th>\n",
              "      <td>2020-05-15 01:00:00</td>\n",
              "      <td>4136001</td>\n",
              "      <td>iq8k7ZNt4Mwm3w0</td>\n",
              "      <td>26.596148</td>\n",
              "      <td>25.088210</td>\n",
              "      <td>0.0</td>\n",
              "    </tr>\n",
              "  </tbody>\n",
              "</table>\n",
              "</div>"
            ],
            "text/plain": [
              "             DATE_TIME  PLANT_ID  ... MODULE_TEMPERATURE  IRRADIATION\n",
              "0  2020-05-15 00:00:00   4136001  ...          25.060789          0.0\n",
              "1  2020-05-15 00:15:00   4136001  ...          24.421869          0.0\n",
              "2  2020-05-15 00:30:00   4136001  ...          24.427290          0.0\n",
              "3  2020-05-15 00:45:00   4136001  ...          24.420678          0.0\n",
              "4  2020-05-15 01:00:00   4136001  ...          25.088210          0.0\n",
              "\n",
              "[5 rows x 6 columns]"
            ]
          },
          "metadata": {},
          "execution_count": 6
        }
      ]
    },
    {
      "cell_type": "markdown",
      "metadata": {
        "id": "2ApH_D83vmaU"
      },
      "source": [
        "##Data Set Preprocessing for Analysis"
      ]
    },
    {
      "cell_type": "markdown",
      "metadata": {
        "id": "JZy39iUSv1d0"
      },
      "source": [
        "###Solar Plant 01 Generation Data"
      ]
    },
    {
      "cell_type": "code",
      "metadata": {
        "colab": {
          "base_uri": "https://localhost:8080/"
        },
        "id": "mzMg9BPkvpqB",
        "outputId": "03eaeb37-8841-4db6-c3bd-25b60f93f3a6"
      },
      "source": [
        "solargen_data01.shape"
      ],
      "execution_count": 7,
      "outputs": [
        {
          "output_type": "execute_result",
          "data": {
            "text/plain": [
              "(68778, 7)"
            ]
          },
          "metadata": {},
          "execution_count": 7
        }
      ]
    },
    {
      "cell_type": "code",
      "metadata": {
        "colab": {
          "base_uri": "https://localhost:8080/",
          "height": 269
        },
        "id": "zV9KFm49wCVp",
        "outputId": "289264c8-02e8-4962-d9a2-18c739c89997"
      },
      "source": [
        "solargen_data01.describe(include='all').transpose()"
      ],
      "execution_count": 8,
      "outputs": [
        {
          "output_type": "execute_result",
          "data": {
            "text/html": [
              "<div>\n",
              "<style scoped>\n",
              "    .dataframe tbody tr th:only-of-type {\n",
              "        vertical-align: middle;\n",
              "    }\n",
              "\n",
              "    .dataframe tbody tr th {\n",
              "        vertical-align: top;\n",
              "    }\n",
              "\n",
              "    .dataframe thead th {\n",
              "        text-align: right;\n",
              "    }\n",
              "</style>\n",
              "<table border=\"1\" class=\"dataframe\">\n",
              "  <thead>\n",
              "    <tr style=\"text-align: right;\">\n",
              "      <th></th>\n",
              "      <th>count</th>\n",
              "      <th>unique</th>\n",
              "      <th>top</th>\n",
              "      <th>freq</th>\n",
              "      <th>mean</th>\n",
              "      <th>std</th>\n",
              "      <th>min</th>\n",
              "      <th>25%</th>\n",
              "      <th>50%</th>\n",
              "      <th>75%</th>\n",
              "      <th>max</th>\n",
              "    </tr>\n",
              "  </thead>\n",
              "  <tbody>\n",
              "    <tr>\n",
              "      <th>DATE_TIME</th>\n",
              "      <td>68778</td>\n",
              "      <td>3158</td>\n",
              "      <td>17-06-2020 12:15</td>\n",
              "      <td>22</td>\n",
              "      <td>NaN</td>\n",
              "      <td>NaN</td>\n",
              "      <td>NaN</td>\n",
              "      <td>NaN</td>\n",
              "      <td>NaN</td>\n",
              "      <td>NaN</td>\n",
              "      <td>NaN</td>\n",
              "    </tr>\n",
              "    <tr>\n",
              "      <th>PLANT_ID</th>\n",
              "      <td>68778</td>\n",
              "      <td>NaN</td>\n",
              "      <td>NaN</td>\n",
              "      <td>NaN</td>\n",
              "      <td>4.135e+06</td>\n",
              "      <td>0</td>\n",
              "      <td>4.135e+06</td>\n",
              "      <td>4.135e+06</td>\n",
              "      <td>4.135e+06</td>\n",
              "      <td>4.135e+06</td>\n",
              "      <td>4.135e+06</td>\n",
              "    </tr>\n",
              "    <tr>\n",
              "      <th>SOURCE_KEY</th>\n",
              "      <td>68778</td>\n",
              "      <td>22</td>\n",
              "      <td>bvBOhCH3iADSZry</td>\n",
              "      <td>3155</td>\n",
              "      <td>NaN</td>\n",
              "      <td>NaN</td>\n",
              "      <td>NaN</td>\n",
              "      <td>NaN</td>\n",
              "      <td>NaN</td>\n",
              "      <td>NaN</td>\n",
              "      <td>NaN</td>\n",
              "    </tr>\n",
              "    <tr>\n",
              "      <th>DC_POWER</th>\n",
              "      <td>68778</td>\n",
              "      <td>NaN</td>\n",
              "      <td>NaN</td>\n",
              "      <td>NaN</td>\n",
              "      <td>3147.43</td>\n",
              "      <td>4036.46</td>\n",
              "      <td>0</td>\n",
              "      <td>0</td>\n",
              "      <td>429</td>\n",
              "      <td>6366.96</td>\n",
              "      <td>14471.1</td>\n",
              "    </tr>\n",
              "    <tr>\n",
              "      <th>AC_POWER</th>\n",
              "      <td>68778</td>\n",
              "      <td>NaN</td>\n",
              "      <td>NaN</td>\n",
              "      <td>NaN</td>\n",
              "      <td>307.803</td>\n",
              "      <td>394.396</td>\n",
              "      <td>0</td>\n",
              "      <td>0</td>\n",
              "      <td>41.4938</td>\n",
              "      <td>623.619</td>\n",
              "      <td>1410.95</td>\n",
              "    </tr>\n",
              "    <tr>\n",
              "      <th>DAILY_YIELD</th>\n",
              "      <td>68778</td>\n",
              "      <td>NaN</td>\n",
              "      <td>NaN</td>\n",
              "      <td>NaN</td>\n",
              "      <td>3295.97</td>\n",
              "      <td>3145.18</td>\n",
              "      <td>0</td>\n",
              "      <td>0</td>\n",
              "      <td>2658.71</td>\n",
              "      <td>6274</td>\n",
              "      <td>9163</td>\n",
              "    </tr>\n",
              "    <tr>\n",
              "      <th>TOTAL_YIELD</th>\n",
              "      <td>68778</td>\n",
              "      <td>NaN</td>\n",
              "      <td>NaN</td>\n",
              "      <td>NaN</td>\n",
              "      <td>6.97871e+06</td>\n",
              "      <td>416272</td>\n",
              "      <td>6.18364e+06</td>\n",
              "      <td>6.512e+06</td>\n",
              "      <td>7.14668e+06</td>\n",
              "      <td>7.26871e+06</td>\n",
              "      <td>7.84682e+06</td>\n",
              "    </tr>\n",
              "  </tbody>\n",
              "</table>\n",
              "</div>"
            ],
            "text/plain": [
              "             count unique  ...          75%          max\n",
              "DATE_TIME    68778   3158  ...          NaN          NaN\n",
              "PLANT_ID     68778    NaN  ...    4.135e+06    4.135e+06\n",
              "SOURCE_KEY   68778     22  ...          NaN          NaN\n",
              "DC_POWER     68778    NaN  ...      6366.96      14471.1\n",
              "AC_POWER     68778    NaN  ...      623.619      1410.95\n",
              "DAILY_YIELD  68778    NaN  ...         6274         9163\n",
              "TOTAL_YIELD  68778    NaN  ...  7.26871e+06  7.84682e+06\n",
              "\n",
              "[7 rows x 11 columns]"
            ]
          },
          "metadata": {},
          "execution_count": 8
        }
      ]
    },
    {
      "cell_type": "code",
      "metadata": {
        "colab": {
          "base_uri": "https://localhost:8080/"
        },
        "id": "TuWnrxzBwMQD",
        "outputId": "6eae27fa-f498-474f-b89b-71c6de05f68a"
      },
      "source": [
        "#Checking for Null Values\n",
        "solargen_data01.isnull().sum()"
      ],
      "execution_count": 9,
      "outputs": [
        {
          "output_type": "execute_result",
          "data": {
            "text/plain": [
              "DATE_TIME      0\n",
              "PLANT_ID       0\n",
              "SOURCE_KEY     0\n",
              "DC_POWER       0\n",
              "AC_POWER       0\n",
              "DAILY_YIELD    0\n",
              "TOTAL_YIELD    0\n",
              "dtype: int64"
            ]
          },
          "metadata": {},
          "execution_count": 9
        }
      ]
    },
    {
      "cell_type": "markdown",
      "metadata": {
        "id": "4CMn-_tnxDFx"
      },
      "source": [
        "###Solar Plant 01 Weather Data"
      ]
    },
    {
      "cell_type": "code",
      "metadata": {
        "colab": {
          "base_uri": "https://localhost:8080/"
        },
        "id": "tgIxoW8hxDFy",
        "outputId": "5c7ac73a-2812-49a8-c7b4-7fa3d7c5961a"
      },
      "source": [
        "weather_data01.shape"
      ],
      "execution_count": 10,
      "outputs": [
        {
          "output_type": "execute_result",
          "data": {
            "text/plain": [
              "(3182, 6)"
            ]
          },
          "metadata": {},
          "execution_count": 10
        }
      ]
    },
    {
      "cell_type": "code",
      "metadata": {
        "colab": {
          "base_uri": "https://localhost:8080/",
          "height": 238
        },
        "id": "ZLDcdSoYxDFz",
        "outputId": "cd9f9317-fff6-4d11-9a51-8278bffb24ec"
      },
      "source": [
        "weather_data01.describe(include='all').transpose()"
      ],
      "execution_count": 11,
      "outputs": [
        {
          "output_type": "execute_result",
          "data": {
            "text/html": [
              "<div>\n",
              "<style scoped>\n",
              "    .dataframe tbody tr th:only-of-type {\n",
              "        vertical-align: middle;\n",
              "    }\n",
              "\n",
              "    .dataframe tbody tr th {\n",
              "        vertical-align: top;\n",
              "    }\n",
              "\n",
              "    .dataframe thead th {\n",
              "        text-align: right;\n",
              "    }\n",
              "</style>\n",
              "<table border=\"1\" class=\"dataframe\">\n",
              "  <thead>\n",
              "    <tr style=\"text-align: right;\">\n",
              "      <th></th>\n",
              "      <th>count</th>\n",
              "      <th>unique</th>\n",
              "      <th>top</th>\n",
              "      <th>freq</th>\n",
              "      <th>mean</th>\n",
              "      <th>std</th>\n",
              "      <th>min</th>\n",
              "      <th>25%</th>\n",
              "      <th>50%</th>\n",
              "      <th>75%</th>\n",
              "      <th>max</th>\n",
              "    </tr>\n",
              "  </thead>\n",
              "  <tbody>\n",
              "    <tr>\n",
              "      <th>DATE_TIME</th>\n",
              "      <td>3182</td>\n",
              "      <td>3182</td>\n",
              "      <td>2020-06-12 03:30:00</td>\n",
              "      <td>1</td>\n",
              "      <td>NaN</td>\n",
              "      <td>NaN</td>\n",
              "      <td>NaN</td>\n",
              "      <td>NaN</td>\n",
              "      <td>NaN</td>\n",
              "      <td>NaN</td>\n",
              "      <td>NaN</td>\n",
              "    </tr>\n",
              "    <tr>\n",
              "      <th>PLANT_ID</th>\n",
              "      <td>3182</td>\n",
              "      <td>NaN</td>\n",
              "      <td>NaN</td>\n",
              "      <td>NaN</td>\n",
              "      <td>4.135e+06</td>\n",
              "      <td>0</td>\n",
              "      <td>4.135e+06</td>\n",
              "      <td>4.135e+06</td>\n",
              "      <td>4.135e+06</td>\n",
              "      <td>4.135e+06</td>\n",
              "      <td>4.135e+06</td>\n",
              "    </tr>\n",
              "    <tr>\n",
              "      <th>SOURCE_KEY</th>\n",
              "      <td>3182</td>\n",
              "      <td>1</td>\n",
              "      <td>HmiyD2TTLFNqkNe</td>\n",
              "      <td>3182</td>\n",
              "      <td>NaN</td>\n",
              "      <td>NaN</td>\n",
              "      <td>NaN</td>\n",
              "      <td>NaN</td>\n",
              "      <td>NaN</td>\n",
              "      <td>NaN</td>\n",
              "      <td>NaN</td>\n",
              "    </tr>\n",
              "    <tr>\n",
              "      <th>AMBIENT_TEMPERATURE</th>\n",
              "      <td>3182</td>\n",
              "      <td>NaN</td>\n",
              "      <td>NaN</td>\n",
              "      <td>NaN</td>\n",
              "      <td>25.5316</td>\n",
              "      <td>3.35486</td>\n",
              "      <td>20.3985</td>\n",
              "      <td>22.7052</td>\n",
              "      <td>24.6138</td>\n",
              "      <td>27.9205</td>\n",
              "      <td>35.2525</td>\n",
              "    </tr>\n",
              "    <tr>\n",
              "      <th>MODULE_TEMPERATURE</th>\n",
              "      <td>3182</td>\n",
              "      <td>NaN</td>\n",
              "      <td>NaN</td>\n",
              "      <td>NaN</td>\n",
              "      <td>31.091</td>\n",
              "      <td>12.2612</td>\n",
              "      <td>18.1404</td>\n",
              "      <td>21.0906</td>\n",
              "      <td>24.6181</td>\n",
              "      <td>41.3078</td>\n",
              "      <td>65.5457</td>\n",
              "    </tr>\n",
              "    <tr>\n",
              "      <th>IRRADIATION</th>\n",
              "      <td>3182</td>\n",
              "      <td>NaN</td>\n",
              "      <td>NaN</td>\n",
              "      <td>NaN</td>\n",
              "      <td>0.228313</td>\n",
              "      <td>0.300836</td>\n",
              "      <td>0</td>\n",
              "      <td>0</td>\n",
              "      <td>0.0246535</td>\n",
              "      <td>0.449588</td>\n",
              "      <td>1.22165</td>\n",
              "    </tr>\n",
              "  </tbody>\n",
              "</table>\n",
              "</div>"
            ],
            "text/plain": [
              "                    count unique  ...        75%        max\n",
              "DATE_TIME            3182   3182  ...        NaN        NaN\n",
              "PLANT_ID             3182    NaN  ...  4.135e+06  4.135e+06\n",
              "SOURCE_KEY           3182      1  ...        NaN        NaN\n",
              "AMBIENT_TEMPERATURE  3182    NaN  ...    27.9205    35.2525\n",
              "MODULE_TEMPERATURE   3182    NaN  ...    41.3078    65.5457\n",
              "IRRADIATION          3182    NaN  ...   0.449588    1.22165\n",
              "\n",
              "[6 rows x 11 columns]"
            ]
          },
          "metadata": {},
          "execution_count": 11
        }
      ]
    },
    {
      "cell_type": "code",
      "metadata": {
        "colab": {
          "base_uri": "https://localhost:8080/"
        },
        "id": "kTjUMnp3xDFz",
        "outputId": "3bb6ecd4-2449-4bb3-deec-d1577069c187"
      },
      "source": [
        "#Checking for Null Values\n",
        "weather_data01.isnull().sum()"
      ],
      "execution_count": 12,
      "outputs": [
        {
          "output_type": "execute_result",
          "data": {
            "text/plain": [
              "DATE_TIME              0\n",
              "PLANT_ID               0\n",
              "SOURCE_KEY             0\n",
              "AMBIENT_TEMPERATURE    0\n",
              "MODULE_TEMPERATURE     0\n",
              "IRRADIATION            0\n",
              "dtype: int64"
            ]
          },
          "metadata": {},
          "execution_count": 12
        }
      ]
    },
    {
      "cell_type": "markdown",
      "metadata": {
        "id": "0hFWJJStxV8f"
      },
      "source": [
        "###Solar Plant 02 Generation Data"
      ]
    },
    {
      "cell_type": "code",
      "metadata": {
        "colab": {
          "base_uri": "https://localhost:8080/"
        },
        "id": "rF3gEG6DxV8g",
        "outputId": "425b2d4e-2399-4078-f2d6-c75748082a63"
      },
      "source": [
        "solargen_data02.shape"
      ],
      "execution_count": 13,
      "outputs": [
        {
          "output_type": "execute_result",
          "data": {
            "text/plain": [
              "(67698, 7)"
            ]
          },
          "metadata": {},
          "execution_count": 13
        }
      ]
    },
    {
      "cell_type": "code",
      "metadata": {
        "colab": {
          "base_uri": "https://localhost:8080/",
          "height": 269
        },
        "id": "nNOuCSmAxV8g",
        "outputId": "9ffa2227-de83-4cf4-9fd8-b3eb1419e651"
      },
      "source": [
        "solargen_data02.describe(include='all').transpose()"
      ],
      "execution_count": 14,
      "outputs": [
        {
          "output_type": "execute_result",
          "data": {
            "text/html": [
              "<div>\n",
              "<style scoped>\n",
              "    .dataframe tbody tr th:only-of-type {\n",
              "        vertical-align: middle;\n",
              "    }\n",
              "\n",
              "    .dataframe tbody tr th {\n",
              "        vertical-align: top;\n",
              "    }\n",
              "\n",
              "    .dataframe thead th {\n",
              "        text-align: right;\n",
              "    }\n",
              "</style>\n",
              "<table border=\"1\" class=\"dataframe\">\n",
              "  <thead>\n",
              "    <tr style=\"text-align: right;\">\n",
              "      <th></th>\n",
              "      <th>count</th>\n",
              "      <th>unique</th>\n",
              "      <th>top</th>\n",
              "      <th>freq</th>\n",
              "      <th>mean</th>\n",
              "      <th>std</th>\n",
              "      <th>min</th>\n",
              "      <th>25%</th>\n",
              "      <th>50%</th>\n",
              "      <th>75%</th>\n",
              "      <th>max</th>\n",
              "    </tr>\n",
              "  </thead>\n",
              "  <tbody>\n",
              "    <tr>\n",
              "      <th>DATE_TIME</th>\n",
              "      <td>67698</td>\n",
              "      <td>3259</td>\n",
              "      <td>2020-06-12 03:30:00</td>\n",
              "      <td>22</td>\n",
              "      <td>NaN</td>\n",
              "      <td>NaN</td>\n",
              "      <td>NaN</td>\n",
              "      <td>NaN</td>\n",
              "      <td>NaN</td>\n",
              "      <td>NaN</td>\n",
              "      <td>NaN</td>\n",
              "    </tr>\n",
              "    <tr>\n",
              "      <th>PLANT_ID</th>\n",
              "      <td>67698</td>\n",
              "      <td>NaN</td>\n",
              "      <td>NaN</td>\n",
              "      <td>NaN</td>\n",
              "      <td>4.136e+06</td>\n",
              "      <td>0</td>\n",
              "      <td>4.136e+06</td>\n",
              "      <td>4.136e+06</td>\n",
              "      <td>4.136e+06</td>\n",
              "      <td>4.136e+06</td>\n",
              "      <td>4.136e+06</td>\n",
              "    </tr>\n",
              "    <tr>\n",
              "      <th>SOURCE_KEY</th>\n",
              "      <td>67698</td>\n",
              "      <td>22</td>\n",
              "      <td>oZZkBaNadn6DNKz</td>\n",
              "      <td>3259</td>\n",
              "      <td>NaN</td>\n",
              "      <td>NaN</td>\n",
              "      <td>NaN</td>\n",
              "      <td>NaN</td>\n",
              "      <td>NaN</td>\n",
              "      <td>NaN</td>\n",
              "      <td>NaN</td>\n",
              "    </tr>\n",
              "    <tr>\n",
              "      <th>DC_POWER</th>\n",
              "      <td>67698</td>\n",
              "      <td>NaN</td>\n",
              "      <td>NaN</td>\n",
              "      <td>NaN</td>\n",
              "      <td>246.702</td>\n",
              "      <td>370.57</td>\n",
              "      <td>0</td>\n",
              "      <td>0</td>\n",
              "      <td>0</td>\n",
              "      <td>446.592</td>\n",
              "      <td>1420.93</td>\n",
              "    </tr>\n",
              "    <tr>\n",
              "      <th>AC_POWER</th>\n",
              "      <td>67698</td>\n",
              "      <td>NaN</td>\n",
              "      <td>NaN</td>\n",
              "      <td>NaN</td>\n",
              "      <td>241.278</td>\n",
              "      <td>362.112</td>\n",
              "      <td>0</td>\n",
              "      <td>0</td>\n",
              "      <td>0</td>\n",
              "      <td>438.215</td>\n",
              "      <td>1385.42</td>\n",
              "    </tr>\n",
              "    <tr>\n",
              "      <th>DAILY_YIELD</th>\n",
              "      <td>67698</td>\n",
              "      <td>NaN</td>\n",
              "      <td>NaN</td>\n",
              "      <td>NaN</td>\n",
              "      <td>3294.89</td>\n",
              "      <td>2919.45</td>\n",
              "      <td>0</td>\n",
              "      <td>272.75</td>\n",
              "      <td>2911</td>\n",
              "      <td>5534</td>\n",
              "      <td>9873</td>\n",
              "    </tr>\n",
              "    <tr>\n",
              "      <th>TOTAL_YIELD</th>\n",
              "      <td>67698</td>\n",
              "      <td>NaN</td>\n",
              "      <td>NaN</td>\n",
              "      <td>NaN</td>\n",
              "      <td>6.58945e+08</td>\n",
              "      <td>7.29668e+08</td>\n",
              "      <td>0</td>\n",
              "      <td>1.99649e+07</td>\n",
              "      <td>2.82628e+08</td>\n",
              "      <td>1.3485e+09</td>\n",
              "      <td>2.24792e+09</td>\n",
              "    </tr>\n",
              "  </tbody>\n",
              "</table>\n",
              "</div>"
            ],
            "text/plain": [
              "             count unique  ...         75%          max\n",
              "DATE_TIME    67698   3259  ...         NaN          NaN\n",
              "PLANT_ID     67698    NaN  ...   4.136e+06    4.136e+06\n",
              "SOURCE_KEY   67698     22  ...         NaN          NaN\n",
              "DC_POWER     67698    NaN  ...     446.592      1420.93\n",
              "AC_POWER     67698    NaN  ...     438.215      1385.42\n",
              "DAILY_YIELD  67698    NaN  ...        5534         9873\n",
              "TOTAL_YIELD  67698    NaN  ...  1.3485e+09  2.24792e+09\n",
              "\n",
              "[7 rows x 11 columns]"
            ]
          },
          "metadata": {},
          "execution_count": 14
        }
      ]
    },
    {
      "cell_type": "code",
      "metadata": {
        "colab": {
          "base_uri": "https://localhost:8080/"
        },
        "id": "ue1cVKEGxV8h",
        "outputId": "15d4c827-52e6-4820-abee-2b9b58ca1b23"
      },
      "source": [
        "#Checking for Null Values\n",
        "solargen_data02.isnull().sum()"
      ],
      "execution_count": 15,
      "outputs": [
        {
          "output_type": "execute_result",
          "data": {
            "text/plain": [
              "DATE_TIME      0\n",
              "PLANT_ID       0\n",
              "SOURCE_KEY     0\n",
              "DC_POWER       0\n",
              "AC_POWER       0\n",
              "DAILY_YIELD    0\n",
              "TOTAL_YIELD    0\n",
              "dtype: int64"
            ]
          },
          "metadata": {},
          "execution_count": 15
        }
      ]
    },
    {
      "cell_type": "markdown",
      "metadata": {
        "id": "Z4JjDFFAxV8m"
      },
      "source": [
        "###Solar Plant 02 Weather Data"
      ]
    },
    {
      "cell_type": "code",
      "metadata": {
        "colab": {
          "base_uri": "https://localhost:8080/"
        },
        "id": "KFbWUTq2xV8n",
        "outputId": "db046a5d-c87f-4541-8c92-99f29de79e59"
      },
      "source": [
        "weather_data02.shape"
      ],
      "execution_count": 16,
      "outputs": [
        {
          "output_type": "execute_result",
          "data": {
            "text/plain": [
              "(3259, 6)"
            ]
          },
          "metadata": {},
          "execution_count": 16
        }
      ]
    },
    {
      "cell_type": "code",
      "metadata": {
        "colab": {
          "base_uri": "https://localhost:8080/",
          "height": 238
        },
        "id": "63So5NYPxV8n",
        "outputId": "c1cf82bf-fab6-48b0-c45b-13ea2238a71c"
      },
      "source": [
        "weather_data02.describe(include='all').transpose()"
      ],
      "execution_count": 17,
      "outputs": [
        {
          "output_type": "execute_result",
          "data": {
            "text/html": [
              "<div>\n",
              "<style scoped>\n",
              "    .dataframe tbody tr th:only-of-type {\n",
              "        vertical-align: middle;\n",
              "    }\n",
              "\n",
              "    .dataframe tbody tr th {\n",
              "        vertical-align: top;\n",
              "    }\n",
              "\n",
              "    .dataframe thead th {\n",
              "        text-align: right;\n",
              "    }\n",
              "</style>\n",
              "<table border=\"1\" class=\"dataframe\">\n",
              "  <thead>\n",
              "    <tr style=\"text-align: right;\">\n",
              "      <th></th>\n",
              "      <th>count</th>\n",
              "      <th>unique</th>\n",
              "      <th>top</th>\n",
              "      <th>freq</th>\n",
              "      <th>mean</th>\n",
              "      <th>std</th>\n",
              "      <th>min</th>\n",
              "      <th>25%</th>\n",
              "      <th>50%</th>\n",
              "      <th>75%</th>\n",
              "      <th>max</th>\n",
              "    </tr>\n",
              "  </thead>\n",
              "  <tbody>\n",
              "    <tr>\n",
              "      <th>DATE_TIME</th>\n",
              "      <td>3259</td>\n",
              "      <td>3259</td>\n",
              "      <td>2020-06-12 03:30:00</td>\n",
              "      <td>1</td>\n",
              "      <td>NaN</td>\n",
              "      <td>NaN</td>\n",
              "      <td>NaN</td>\n",
              "      <td>NaN</td>\n",
              "      <td>NaN</td>\n",
              "      <td>NaN</td>\n",
              "      <td>NaN</td>\n",
              "    </tr>\n",
              "    <tr>\n",
              "      <th>PLANT_ID</th>\n",
              "      <td>3259</td>\n",
              "      <td>NaN</td>\n",
              "      <td>NaN</td>\n",
              "      <td>NaN</td>\n",
              "      <td>4.136e+06</td>\n",
              "      <td>0</td>\n",
              "      <td>4.136e+06</td>\n",
              "      <td>4.136e+06</td>\n",
              "      <td>4.136e+06</td>\n",
              "      <td>4.136e+06</td>\n",
              "      <td>4.136e+06</td>\n",
              "    </tr>\n",
              "    <tr>\n",
              "      <th>SOURCE_KEY</th>\n",
              "      <td>3259</td>\n",
              "      <td>1</td>\n",
              "      <td>iq8k7ZNt4Mwm3w0</td>\n",
              "      <td>3259</td>\n",
              "      <td>NaN</td>\n",
              "      <td>NaN</td>\n",
              "      <td>NaN</td>\n",
              "      <td>NaN</td>\n",
              "      <td>NaN</td>\n",
              "      <td>NaN</td>\n",
              "      <td>NaN</td>\n",
              "    </tr>\n",
              "    <tr>\n",
              "      <th>AMBIENT_TEMPERATURE</th>\n",
              "      <td>3259</td>\n",
              "      <td>NaN</td>\n",
              "      <td>NaN</td>\n",
              "      <td>NaN</td>\n",
              "      <td>28.0694</td>\n",
              "      <td>4.06156</td>\n",
              "      <td>20.9424</td>\n",
              "      <td>24.6021</td>\n",
              "      <td>26.9813</td>\n",
              "      <td>31.0568</td>\n",
              "      <td>39.1816</td>\n",
              "    </tr>\n",
              "    <tr>\n",
              "      <th>MODULE_TEMPERATURE</th>\n",
              "      <td>3259</td>\n",
              "      <td>NaN</td>\n",
              "      <td>NaN</td>\n",
              "      <td>NaN</td>\n",
              "      <td>32.7724</td>\n",
              "      <td>11.344</td>\n",
              "      <td>20.2651</td>\n",
              "      <td>23.7169</td>\n",
              "      <td>27.5346</td>\n",
              "      <td>40.4807</td>\n",
              "      <td>66.636</td>\n",
              "    </tr>\n",
              "    <tr>\n",
              "      <th>IRRADIATION</th>\n",
              "      <td>3259</td>\n",
              "      <td>NaN</td>\n",
              "      <td>NaN</td>\n",
              "      <td>NaN</td>\n",
              "      <td>0.232737</td>\n",
              "      <td>0.312693</td>\n",
              "      <td>0</td>\n",
              "      <td>0</td>\n",
              "      <td>0.0190405</td>\n",
              "      <td>0.438717</td>\n",
              "      <td>1.09877</td>\n",
              "    </tr>\n",
              "  </tbody>\n",
              "</table>\n",
              "</div>"
            ],
            "text/plain": [
              "                    count unique  ...        75%        max\n",
              "DATE_TIME            3259   3259  ...        NaN        NaN\n",
              "PLANT_ID             3259    NaN  ...  4.136e+06  4.136e+06\n",
              "SOURCE_KEY           3259      1  ...        NaN        NaN\n",
              "AMBIENT_TEMPERATURE  3259    NaN  ...    31.0568    39.1816\n",
              "MODULE_TEMPERATURE   3259    NaN  ...    40.4807     66.636\n",
              "IRRADIATION          3259    NaN  ...   0.438717    1.09877\n",
              "\n",
              "[6 rows x 11 columns]"
            ]
          },
          "metadata": {},
          "execution_count": 17
        }
      ]
    },
    {
      "cell_type": "code",
      "metadata": {
        "colab": {
          "base_uri": "https://localhost:8080/"
        },
        "id": "0TEct8jzxV8n",
        "outputId": "bde6cd0a-ee50-4450-9ec8-2bbb2b284884"
      },
      "source": [
        "#Checking for Null Values\n",
        "weather_data02.isnull().sum()"
      ],
      "execution_count": 18,
      "outputs": [
        {
          "output_type": "execute_result",
          "data": {
            "text/plain": [
              "DATE_TIME              0\n",
              "PLANT_ID               0\n",
              "SOURCE_KEY             0\n",
              "AMBIENT_TEMPERATURE    0\n",
              "MODULE_TEMPERATURE     0\n",
              "IRRADIATION            0\n",
              "dtype: int64"
            ]
          },
          "metadata": {},
          "execution_count": 18
        }
      ]
    }
  ]
}